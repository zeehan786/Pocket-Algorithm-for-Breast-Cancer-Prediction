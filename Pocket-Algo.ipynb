{
 "cells": [
  {
   "cell_type": "code",
   "execution_count": 1,
   "id": "2708dea9",
   "metadata": {},
   "outputs": [],
   "source": [
    "import numpy as np\n",
    "from sklearn import datasets\n",
    "from sklearn.model_selection import train_test_split\n",
    "import matplotlib.pyplot as plt"
   ]
  },
  {
   "cell_type": "code",
   "execution_count": 2,
   "id": "fcaa5751",
   "metadata": {},
   "outputs": [],
   "source": [
    "def fit(X, y, wt, iter):\n",
    "    w_pocket = wt #initilizing w (w_0), with the given parameter\n",
    "    min_mistake = X.shape[0] #initilizing min_mistake with the maximum mistakes possible (all data points)\n",
    "    \n",
    "    for i in range(iter):\n",
    "        M = np.dot(X, wt) #get the dot product of feature vector with the weight vector\n",
    "        M = np.multiply(M, y) #as y vector contains -1(when false), the mistakes will be less than 0 (negative)\n",
    "        mistake_count = (M<0).sum() #getting the count of the elements that are negatives\n",
    "\n",
    "        if mistake_count < min_mistake: #Heart of Pocket Algorithm\n",
    "            w_pocket = wt #if the current mistake made by the current w is less than the min_mistake, min_mistake is updated\n",
    "            min_mistake = mistake_count\n",
    "        \n",
    "        \n",
    "        if(mistake_count > 0):\n",
    "            mis_pos_array = np.where(M < 0)[0] #obtaining the positions where the mistake occured\n",
    "            random_mistake_pos = np.random.choice(mis_pos_array) #obtaining the position of a random mistake\n",
    "            wt = wt + np.multiply(y[random_mistake_pos], X[random_mistake_pos]) #Updating the weight vector        \n",
    "        else: break #if else is True then data is linearly seperable\n",
    "            \n",
    "     #returning an ideal w(might not be the best, as finding best is NP Hard) with its mistake count\n",
    "    return [w_pocket, min_mistake]"
   ]
  },
  {
   "cell_type": "code",
   "execution_count": 41,
   "id": "91983776",
   "metadata": {},
   "outputs": [],
   "source": [
    "def main():\n",
    "    breast_cancer = datasets.load_breast_cancer() #loading the breast cancer dataset\n",
    "    X_train, X_test, y_train, y_test = train_test_split(breast_cancer.data, breast_cancer.target, test_size=0.2, random_state=13)\n",
    "    y_train[y_train == 0] = -1 #changing y's element to -1 when the elements are 0\n",
    "    y_test[y_test == 0] = -1 #changing y's element to -1 when the elements are 0\n",
    "    \n",
    "    iteration_array = [2,5,10,20, 40, 80, 160, 320, 640, 1280, 10000] #number of iterations to be performed\n",
    "    \n",
    "    #to store the mistakes count(returned by 'fit' method) for each iterations(when initialization using the first data point)\n",
    "    mistake_array = np.zeros(len(iteration_array)) \n",
    "    \n",
    "    #to store the mistakes count(returned by 'fit' method) for each iterations(when initialization using linear regression)\n",
    "    mistake_array_lin = np.zeros(len(iteration_array))\n",
    "    \n",
    "    wt = 0 #initializing the weight vector\n",
    "    \n",
    "    #initialization using the first data point\n",
    "    for i in range(len(iteration_array)):\n",
    "        wt = X_train[0]  #initialization using the first data point\n",
    "        wt_min_mistake = fit(X_train, y_train, wt, iteration_array[i]) \n",
    "        mistake_array[i] = wt_min_mistake[1] #storing the mistake count in the array\n",
    "        wt = wt_min_mistake[0] #storing the weight vector\n",
    "    \n",
    "    #creating performance plot of E_in\n",
    "    plt.plot(iteration_array, mistake_array, label = \"Initialization with First Data Point\")  \n",
    "    \n",
    "    #Testing the ideal weight vector with the test data\n",
    "    M = np.dot(X_test, wt) #get the dot product of feature vector with the weight vector\n",
    "    M = np.multiply(M, y_test)#as y vector contains -1(when false), the mistakes will be less than 0 (negative)\n",
    "    mistake_count = (M<0).sum() #getting the count of the elements that are negatives\n",
    "    \n",
    "    print(\"E_in is\", mistake_array[len(mistake_array)-1]/X_train.shape[0]) #obtaining E_in(average)\n",
    "    print(\"E_out is is\", mistake_count/X_test.shape[0]) #obtaining E_out(average)\n",
    "    \n",
    "#     #####################################\n",
    "\n",
    "    X_pseudo = np.linalg.pinv(X_train) #obtaining the pseduo inverse of X_train by using the appropriate numpy package\n",
    "    \n",
    "    w_lin = 0 #initializing the weight vector\n",
    "    \n",
    "    for i in range(len(iteration_array)):\n",
    "        w_lin = np.dot(X_pseudo, y_train) #obtaining the closed form solution (linear regression algorithm)\n",
    "        wt_min_mistake = fit(X_train, y_train, w_lin, iteration_array[i])\n",
    "        mistake_array_lin[i] = wt_min_mistake[1] #storing the mistake count in the array\n",
    "        w_lin = wt_min_mistake[0] #storing the weight vector\n",
    "    \n",
    "    plt.plot(iteration_array, mistake_array_lin, label = \"Initialization with Linear Regression\")\n",
    "    \n",
    "    plt.legend()\n",
    "    plt.xlabel('Iterations', fontsize=14)\n",
    "    plt.ylabel('Mistakes', fontsize=14)\n",
    "    plt.show()\n",
    "    \n",
    "    M = np.dot(X_test, w_lin)\n",
    "   \n",
    "    M = np.multiply(M, y_test)\n",
    "    mistake_count = (M<0).sum()\n",
    "\n",
    "    print(\"E_in is\", mistake_array_lin[len(mistake_array)-1]/X_train.shape[0]) #obtaining E_in(average)\n",
    "    print(\"E_out is is\", mistake_count/X_test.shape[0]) #obtaining E_out(average)"
   ]
  },
  {
   "cell_type": "code",
   "execution_count": 42,
   "id": "d945bc97",
   "metadata": {},
   "outputs": [
    {
     "name": "stdout",
     "output_type": "stream",
     "text": [
      "E_in is 0.06153846153846154\n",
      "E_out is is 0.10526315789473684\n"
     ]
    },
    {
     "data": {
      "image/png": "[encoded data removed]",
      "text/plain": [
       "<Figure size 432x288 with 1 Axes>"
      ]
     },
     "metadata": {
      "needs_background": "light"
     },
     "output_type": "display_data"
    },
    {
     "name": "stdout",
     "output_type": "stream",
     "text": [
      "E_in is 0.03736263736263736\n",
      "E_out is is 0.03508771929824561\n"
     ]
    }
   ],
   "source": [
    "if __name__ == \"__main__\": main()"
   ]
  },
  {
   "cell_type": "code",
   "execution_count": null,
   "id": "5b464ce5",
   "metadata": {},
   "outputs": [],
   "source": []
  }
 ],
 "metadata": {
  "kernelspec": {
   "display_name": "Python 3 (ipykernel)",
   "language": "python",
   "name": "python3"
  },
  "language_info": {
   "codemirror_mode": {
    "name": "ipython",
    "version": 3
   },
   "file_extension": ".py",
   "mimetype": "text/x-python",
   "name": "python",
   "nbconvert_exporter": "python",
   "pygments_lexer": "ipython3",
   "version": "3.10.1"
  }
 },
 "nbformat": 4,
 "nbformat_minor": 5
}
